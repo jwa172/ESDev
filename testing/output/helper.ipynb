{
 "cells": [
  {
   "cell_type": "code",
   "execution_count": 5,
   "id": "0cbe1b72",
   "metadata": {},
   "outputs": [],
   "source": [
    "from pathlib import Path\n",
    "\n",
    "\n",
    "base_path = Path.cwd()\n",
    "\n",
    "l = list(base_path.rglob('*.csv'))"
   ]
  },
  {
   "cell_type": "code",
   "execution_count": 6,
   "id": "6bd9a975",
   "metadata": {},
   "outputs": [
    {
     "data": {
      "text/plain": [
       "[1747018760.1904128,\n",
       " 1747018770.623753,\n",
       " 1747024512.4939373,\n",
       " 1747023330.6528811,\n",
       " 1747017245.9261298,\n",
       " 1747017235.6291225,\n",
       " 1747017225.2849844,\n",
       " 1747018267.874775,\n",
       " 1747018257.5769124,\n",
       " 1747018558.5043278,\n",
       " 1747018579.1460593,\n",
       " 1747018568.8107498]"
      ]
     },
     "execution_count": 6,
     "metadata": {},
     "output_type": "execute_result"
    }
   ],
   "source": [
    "import os\n",
    "\n",
    "[os.path.getmtime(f) for f in l]"
   ]
  }
 ],
 "metadata": {
  "kernelspec": {
   "display_name": "base",
   "language": "python",
   "name": "python3"
  },
  "language_info": {
   "codemirror_mode": {
    "name": "ipython",
    "version": 3
   },
   "file_extension": ".py",
   "mimetype": "text/x-python",
   "name": "python",
   "nbconvert_exporter": "python",
   "pygments_lexer": "ipython3",
   "version": "3.10.13"
  }
 },
 "nbformat": 4,
 "nbformat_minor": 5
}
